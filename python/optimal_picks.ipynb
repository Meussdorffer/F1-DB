{
 "cells": [
  {
   "cell_type": "code",
   "execution_count": 19,
   "metadata": {},
   "outputs": [],
   "source": [
    "import numpy as np\n",
    "import pandas as pd\n",
    "from funcs import get_connection\n",
    "\n",
    "df = (\n",
    "    pd.read_sql('select * from fantasy.current_driver_standings', con=get_connection())\n",
    "    .sort_values(by='points', ascending=False)\n",
    "    .assign(standing=lambda df: np.arange(len(df)) + 1)\n",
    ")"
   ]
  },
  {
   "cell_type": "code",
   "execution_count": 78,
   "metadata": {},
   "outputs": [],
   "source": [
    "picked_drivers = []\n",
    "sim_df = df.copy().iloc[0:0]\n",
    "for _, row in df.sort_values(by='draft_order')[['manager', 'draft_order']].iterrows():\n",
    "    manager, pick_no = row\n",
    "    next_driver = (\n",
    "        df[~df['driver'].isin(picked_drivers)]\n",
    "        .assign(min_standing=lambda df: df['standing'].min())\n",
    "        .query(\"standing == min_standing\")\n",
    "        .drop(columns=['min_standing'])\n",
    "        .assign(\n",
    "            manager=manager,\n",
    "            draft_order=pick_no\n",
    "        )\n",
    "    )\n",
    "    picked_drivers.append(next_driver['driver'].to_list()[0])\n",
    "    sim_df = sim_df.append(next_driver)\n",
    "sim_df.drop(columns=['standing'], inplace=True)"
   ]
  },
  {
   "cell_type": "code",
   "execution_count": 82,
   "metadata": {},
   "outputs": [],
   "source": [
    "# Send to PG.\n",
    "sim_df.to_sql(\n",
    "    name='optimal_picks',\n",
    "    schema='fantasy',\n",
    "    con=get_connection(),\n",
    "    if_exists='replace',\n",
    "    index=False\n",
    ")"
   ]
  },
  {
   "cell_type": "code",
   "execution_count": null,
   "metadata": {},
   "outputs": [],
   "source": []
  }
 ],
 "metadata": {
  "interpreter": {
   "hash": "c7a80bdefb7edaa4a0c6ab45505e7e5230ff6d04f7268adc983b4cb42637c401"
  },
  "kernelspec": {
   "display_name": "Python 3.7.8 64-bit",
   "language": "python",
   "name": "python3"
  },
  "language_info": {
   "codemirror_mode": {
    "name": "ipython",
    "version": 3
   },
   "file_extension": ".py",
   "mimetype": "text/x-python",
   "name": "python",
   "nbconvert_exporter": "python",
   "pygments_lexer": "ipython3",
   "version": "3.7.8"
  },
  "orig_nbformat": 4
 },
 "nbformat": 4,
 "nbformat_minor": 2
}
